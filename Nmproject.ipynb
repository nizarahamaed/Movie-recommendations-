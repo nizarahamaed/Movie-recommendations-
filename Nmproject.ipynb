{
  "nbformat": 4,
  "nbformat_minor": 0,
  "metadata": {
    "colab": {
      "provenance": [],
      "authorship_tag": "ABX9TyNr5lLAQcHkWBb0/e8mlzxm",
      "include_colab_link": true
    },
    "kernelspec": {
      "name": "python3",
      "display_name": "Python 3"
    },
    "language_info": {
      "name": "python"
    }
  },
  "cells": [
    {
      "cell_type": "markdown",
      "metadata": {
        "id": "view-in-github",
        "colab_type": "text"
      },
      "source": [
        "<a href=\"https://colab.research.google.com/github/nizarahamaed/Movie-recommendations-/blob/main/Nmproject.ipynb\" target=\"_parent\"><img src=\"https://colab.research.google.com/assets/colab-badge.svg\" alt=\"Open In Colab\"/></a>"
      ]
    },
    {
      "cell_type": "code",
      "execution_count": 1,
      "metadata": {
        "colab": {
          "base_uri": "https://localhost:8080/"
        },
        "id": "7Y3WeSdx8LKp",
        "outputId": "4d9e902a-433f-4bc4-99cb-65af27e0ed4c"
      },
      "outputs": [
        {
          "output_type": "stream",
          "name": "stdout",
          "text": [
            "Requirement already satisfied: pandas in /usr/local/lib/python3.11/dist-packages (2.2.2)\n",
            "Requirement already satisfied: scikit-learn in /usr/local/lib/python3.11/dist-packages (1.6.1)\n",
            "Requirement already satisfied: numpy>=1.23.2 in /usr/local/lib/python3.11/dist-packages (from pandas) (2.0.2)\n",
            "Requirement already satisfied: python-dateutil>=2.8.2 in /usr/local/lib/python3.11/dist-packages (from pandas) (2.9.0.post0)\n",
            "Requirement already satisfied: pytz>=2020.1 in /usr/local/lib/python3.11/dist-packages (from pandas) (2025.2)\n",
            "Requirement already satisfied: tzdata>=2022.7 in /usr/local/lib/python3.11/dist-packages (from pandas) (2025.2)\n",
            "Requirement already satisfied: scipy>=1.6.0 in /usr/local/lib/python3.11/dist-packages (from scikit-learn) (1.15.2)\n",
            "Requirement already satisfied: joblib>=1.2.0 in /usr/local/lib/python3.11/dist-packages (from scikit-learn) (1.4.2)\n",
            "Requirement already satisfied: threadpoolctl>=3.1.0 in /usr/local/lib/python3.11/dist-packages (from scikit-learn) (3.6.0)\n",
            "Requirement already satisfied: six>=1.5 in /usr/local/lib/python3.11/dist-packages (from python-dateutil>=2.8.2->pandas) (1.17.0)\n",
            "\n",
            "Because you like 'The Matrix', you might also like:\n",
            "- Guardians of the Galaxy\n",
            "- Inception\n",
            "- Iron Man\n",
            "- Interstellar\n",
            "- Batman Begins\n"
          ]
        }
      ],
      "source": [
        "# Install required packages\n",
        "!pip install pandas scikit-learn\n",
        "\n",
        "# Import libraries\n",
        "import pandas as pd\n",
        "from sklearn.feature_extraction.text import TfidfVectorizer\n",
        "from sklearn.metrics.pairwise import cosine_similarity\n",
        "\n",
        "# Sample movie dataset\n",
        "data = {\n",
        "    'title': [\n",
        "        'The Matrix', 'John Wick', 'Inception', 'Interstellar', 'The Dark Knight',\n",
        "        'Batman Begins', 'Avengers', 'Iron Man', 'Captain America', 'Guardians of the Galaxy'\n",
        "    ],\n",
        "    'genre': [\n",
        "        'Action Sci-Fi', 'Action Thriller', 'Action Sci-Fi', 'Sci-Fi Drama', 'Action Crime',\n",
        "        'Action', 'Action Adventure', 'Action Sci-Fi', 'Action Adventure', 'Action Sci-Fi'\n",
        "    ],\n",
        "    'description': [\n",
        "        'A hacker discovers the reality is a simulation',\n",
        "        'A hitman seeks revenge for his dog',\n",
        "        'A thief enters people’s dreams to steal secrets',\n",
        "        'A team travels through a wormhole in space',\n",
        "        'Batman fights crime in Gotham City',\n",
        "        'Bruce Wayne becomes Batman',\n",
        "        'Superheroes assemble to fight alien threats',\n",
        "        'A billionaire builds a high-tech suit to fight crime',\n",
        "        'A super-soldier fights for justice',\n",
        "        'A group of misfits protect the galaxy from threats'\n",
        "    ]\n",
        "}\n",
        "\n",
        "# Create DataFrame\n",
        "df = pd.DataFrame(data)\n",
        "\n",
        "# Combine features\n",
        "df['combined'] = df['genre'] + \" \" + df['description']\n",
        "\n",
        "# TF-IDF vectorization\n",
        "tfidf = TfidfVectorizer(stop_words='english')\n",
        "tfidf_matrix = tfidf.fit_transform(df['combined'])\n",
        "\n",
        "# Cosine similarity\n",
        "cosine_sim = cosine_similarity(tfidf_matrix, tfidf_matrix)\n",
        "\n",
        "# Recommendation function\n",
        "def recommend_movie(title, cosine_sim=cosine_sim):\n",
        "    title = title.lower()\n",
        "    if title not in df['title'].str.lower().values:\n",
        "        return [\"Movie not found. Please check the title.\"]\n",
        "\n",
        "    idx = df[df['title'].str.lower() == title].index[0]\n",
        "    sim_scores = list(enumerate(cosine_sim[idx]))\n",
        "    sim_scores = sorted(sim_scores, key=lambda x: x[1], reverse=True)\n",
        "    sim_scores = sim_scores[1:6]  # Top 5\n",
        "    movie_indices = [i[0] for i in sim_scores]\n",
        "    return df['title'].iloc[movie_indices].tolist()\n",
        "\n",
        "# Test the recommendation\n",
        "input_movie = \"The Matrix\"\n",
        "recommendations = recommend_movie(input_movie)\n",
        "\n",
        "# Display output\n",
        "print(f\"\\nBecause you like '{input_movie}', you might also like:\")\n",
        "for movie in recommendations:\n",
        "    print(\"-\", movie)"
      ]
    }
  ]
}